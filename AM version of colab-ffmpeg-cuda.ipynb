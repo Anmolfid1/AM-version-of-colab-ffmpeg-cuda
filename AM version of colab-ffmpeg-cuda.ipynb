{
  "nbformat": 4,
  "nbformat_minor": 0,
  "metadata": {
    "colab": {
      "name": "AM version of colab-ffmpeg-cuda.ipynb",
      "provenance": [],
      "collapsed_sections": []
    },
    "kernelspec": {
      "name": "python3",
      "display_name": "Python 3"
    },
    "accelerator": "GPU"
  },
  "cells": [
    {
      "cell_type": "code",
      "metadata": {
        "id": "Da-E5aZwI6IA",
        "cellView": "form"
      },
      "source": [
        " #@title AUTO RECONNECT Colab Runtime to prevent notebook from disconnecting\n",
        " \n",
        "import IPython\n",
        "from google.colab import output\n",
        " \n",
        "display(IPython.display.Javascript('''\n",
        "function ClickConnect(){\n",
        "  btn = document.querySelector(\"colab-connect-button\")\n",
        "  if (btn != null){\n",
        "    console.log(\"Click colab-connect-button\");\n",
        "    btn.click()\n",
        "    }\n",
        "    \n",
        "  btn = document.getElementById('ok')\n",
        "  if (btn != null){\n",
        "    console.log(\"Click reconnect\");\n",
        "    btn.click()\n",
        "    }\n",
        "  }\n",
        "    \n",
        "setInterval(ClickConnect,60000)\n",
        "'''))"
      ],
      "execution_count": null,
      "outputs": []
    },
    {
      "cell_type": "code",
      "metadata": {
        "cellView": "form",
        "id": "btav4BkR_AIN"
      },
      "source": [
        "#@title Mount/Unmount Google Drive\r\n",
        "#@markdown <br><center><img src='https://upload.wikimedia.org/wikipedia/commons/thumb/d/da/Google_Drive_logo.png/600px-Google_Drive_logo.png' height=\"50\" alt=\"Gdrive-logo\"/></center>\r\n",
        "#@markdown <center><h3>Mount Gdrive to /content/drive</h3></center><br>\r\n",
        "MODE = \"MOUNT\" #@param [\"MOUNT\", \"UNMOUNT\"]\r\n",
        "#Mount your Gdrive! \r\n",
        "from google.colab import drive\r\n",
        "drive.mount._DEBUG = False\r\n",
        "if MODE == \"MOUNT\":\r\n",
        "  drive.mount('/content/drive', force_remount=True)\r\n",
        "elif MODE == \"UNMOUNT\":\r\n",
        "  try:\r\n",
        "    drive.flush_and_unmount()\r\n",
        "  except ValueError:\r\n",
        "    pass\r\n",
        "  get_ipython().system_raw(\"rm -rf /root/.config/Google/DriveFS\")"
      ],
      "execution_count": null,
      "outputs": []
    },
    {
      "cell_type": "code",
      "metadata": {
        "cellView": "form",
        "id": "7Kk7nnsTBJFQ"
      },
      "source": [
        "#@title aria2</> Direct link downloader\r\n",
        "#@markdown Auto share link supported : Disk.yandex.com, Gdrive and youtube-dl all extractor...\r\n",
        "URL = \"\" #@param {type:\"string\"}\r\n",
        "#@markdown <center><h5>Default output path /content/downloads/</h5></center>\r\n",
        "OUTPUT_PATH = \"\" #@param {type:\"string\"}\r\n",
        "\r\n",
        "import pathlib\r\n",
        "import shutil\r\n",
        "import hashlib\r\n",
        "import requests\r\n",
        "from urllib.parse import urlparse\r\n",
        "from os import path, mkdir\r\n",
        "if not path.exists(\"/root/.ipython/ocr.py\"): \r\n",
        "    from subprocess import run\r\n",
        "    from shlex import split\r\n",
        "\r\n",
        "    shellCmd = \"wget -qq https://raw.githubusercontent.com/biplobsd/\" \\\r\n",
        "                \"OneClickRun/master/res/ocr.py \\\r\n",
        "                    -O /root/.ipython/ocr.py\"\r\n",
        "    run(split(shellCmd))\r\n",
        "from ocr import runSh\r\n",
        "\r\n",
        "def youtubedlInstall():\r\n",
        "  if not path.isfile(\"/usr/local/bin/youtube-dl\"):\r\n",
        "    cmdC = \"rm -rf /content/sample_data/ && \" \\\r\n",
        "            \" mkdir -p -m 666 /root/.YouTube-DL/ &&\" \\\r\n",
        "            \" apt-get install atomicparsley &&\" \\\r\n",
        "            \" curl -L https://yt-dl.org/downloads/latest/youtube-dl \" \\\r\n",
        "            \"-o /usr/local/bin/youtube-dl &&\" \\\r\n",
        "            \" chmod a+rx /usr/local/bin/youtube-dl\"\r\n",
        "    get_ipython().system_raw(cmdC)\r\n",
        "\r\n",
        "def aria2Install():\r\n",
        "  runSh('apt install -y aria2')\r\n",
        "\r\n",
        "def istmd(URL): \r\n",
        "  link = urlparse(URL)\r\n",
        "    \r\n",
        "  #YandexDisk\r\n",
        "  if link.netloc == \"yadi.sk\":\r\n",
        "    API_ENDPOINT = 'https://cloud-api.yandex.net/v1/disk/public/resources/' \\\r\n",
        "                    '?public_key={}&path=/{}&offset={}'\r\n",
        "    dry = False\r\n",
        "    def md5sum(file_path):\r\n",
        "        md5 = hashlib.md5()\r\n",
        "        with open(file_path, 'rb') as f:\r\n",
        "            for chunk in iter(lambda: f.read(128 * md5.block_size), b''):\r\n",
        "                md5.update(chunk)\r\n",
        "        return md5.hexdigest()\r\n",
        "\r\n",
        "\r\n",
        "    def check_and_download_file(target_path, url, size, checksum):\r\n",
        "        if path.isfile(target_path):\r\n",
        "            if size == path.getsize(target_path):\r\n",
        "                if checksum == md5sum(target_path):\r\n",
        "                    print('URL {}'.format(url))\r\n",
        "                    print('skipping correct {}'.format(target_path))\r\n",
        "                    return\r\n",
        "        if not dry:\r\n",
        "            print('URL {}'.format(url))\r\n",
        "            print('downloading {}'.format(target_path))\r\n",
        "            runSh(f'aria2c -x 16 -s 16 -k 1M -d {OUTPUT_PATH} {url}', output=True)\r\n",
        "            # r = requests.get(url, stream=True)\r\n",
        "            # with open(target_path, 'wb') as f:\r\n",
        "            #     shutil.copyfileobj(r.raw, f)\r\n",
        "\r\n",
        "\r\n",
        "    def download_path(target_path, public_key, source_path, offset=0):\r\n",
        "        print('getting \"{}\" at offset {}'.format(source_path, offset))\r\n",
        "        current_path = path.join(target_path, source_path)\r\n",
        "        pathlib.Path(current_path).mkdir(parents=True, exist_ok=True)\r\n",
        "        jsn = requests.get(API_ENDPOINT.format(public_key, source_path, offset)).json()\r\n",
        "        def try_as_file(j):\r\n",
        "            if 'file' in j:\r\n",
        "                file_save_path = path.join(current_path, j['name'])\r\n",
        "                check_and_download_file(file_save_path, j['file'], j['size'], j['md5'])\r\n",
        "                return True\r\n",
        "            return False\r\n",
        "\r\n",
        "        # first try to treat the actual json as a single file description\r\n",
        "        if try_as_file(jsn):\r\n",
        "            return\r\n",
        "\r\n",
        "        # otherwise treat it as a directory\r\n",
        "        emb = jsn['_embedded']\r\n",
        "        items = emb['items']\r\n",
        "        for i in items:\r\n",
        "            # each item can be a file...\r\n",
        "            if try_as_file(i):\r\n",
        "                continue\r\n",
        "            # ... or a directory\r\n",
        "            else:\r\n",
        "                subdir_path = path.join(source_path, i['name'])\r\n",
        "                download_path(target_path, public_key, subdir_path)\r\n",
        "\r\n",
        "        # check if current directory has more items\r\n",
        "        last = offset + emb['limit']\r\n",
        "        if last < emb['total']:\r\n",
        "            download_path(target_path, public_key, source_path, last)\r\n",
        "    download_path(OUTPUT_PATH, URL, '')\r\n",
        "    return False  \r\n",
        "  return URL\r\n",
        "\r\n",
        "if not OUTPUT_PATH:\r\n",
        "  OUTPUT_PATH = \"/content/downloads/\"\r\n",
        "  \r\n",
        "if not URL == \"\":\r\n",
        "  aria2Install()\r\n",
        "  youtubedlInstall()\r\n",
        "  try:\r\n",
        "    mkdir(\"downloads\")\r\n",
        "  except FileExistsError:\r\n",
        "    pass\r\n",
        "  url = istmd(URL)\r\n",
        "  if url != False:\r\n",
        "    print('URL {}'.format(URL))\r\n",
        "    cmdC = f'youtube-dl -o \"{OUTPUT_PATH}/%(title)s\" {URL} ' \\\r\n",
        "            '--external-downloader aria2c ' \\\r\n",
        "            '--external-downloader-args \"-x 16 -s 16 -k 1M\"'\r\n",
        "    runSh(cmdC, output=True)\r\n",
        "else:\r\n",
        "  print(\"Please input url\")"
      ],
      "execution_count": null,
      "outputs": []
    },
    {
      "cell_type": "code",
      "metadata": {
        "cellView": "form",
        "id": "snOpnRaG_k8y"
      },
      "source": [
        "# ============================= FORM ============================= #\r\n",
        "#@title <h3>⬅️ Install Cloud Commander (file manager)</h3>\r\n",
        "#@markdown <br><center><img src='https://biplobsd.github.io/RLabClone/img/title_cloud_commander.png' height=\"60\" alt=\"netdata\"/></center>\r\n",
        "# ================================================================ #\r\n",
        "USE_FREE_TOKEN = False  # @param {type:\"boolean\"}\r\n",
        "TOKEN = \"\"  # @param {type:\"string\"}\r\n",
        "REGION = \"AU\" #@param [\"US\", \"EU\", \"AP\", \"AU\", \"SA\", \"JP\", \"IN\"]\r\n",
        "\r\n",
        "import os, psutil, time, urllib.request\r\n",
        "from IPython.display import HTML, clear_output\r\n",
        "\r\n",
        "HOME = os.path.expanduser(\"~\")\r\n",
        "\r\n",
        "if not os.path.exists(f\"{HOME}/.ipython/ocr.py\"):\r\n",
        "    hCode = \"https://raw.githubusercontent.com/biplobsd/\" \\\r\n",
        "                \"OneClickRun/master/res/ocr.py\"\r\n",
        "    urllib.request.urlretrieve(hCode, f\"{HOME}/.ipython/ocr.py\")\r\n",
        "\r\n",
        "from ocr import (\r\n",
        "    loadingAn,\r\n",
        "    PortForward_wrapper,\r\n",
        ")\r\n",
        "\r\n",
        "loadingAn()\r\n",
        "if os.path.isfile(\"/tools/node/bin/cloudcmd\") == False:\r\n",
        "  get_ipython().system_raw(\"npm cache clean -f && npm install -g n && n stable && npm i cloudcmd -g --force\")\r\n",
        "\r\n",
        "try:\r\n",
        "  urllib.request.urlopen('http://localhost:7007')\r\n",
        "except urllib.error.URLError:\r\n",
        "  !nohup cloudcmd --online --no-auth --show-config --show-file-name \\\r\n",
        "        --editor 'deepword' --packer 'tar' --port 7007 \\\r\n",
        "        --no-confirm-copy --confirm-move --name 'File Manager' \\\r\n",
        "        --keys-panel --no-contact --console --sync-console-path \\\r\n",
        "        --no-terminal --no-vim --columns 'name-size-date' --no-log &\r\n",
        "# START_SERVER\r\n",
        "# Ngrok region 'us','eu','ap','au','sa','jp','in'\r\n",
        "clear_output()\r\n",
        "PORT_FORWARD = \"localhost\" #@param [\"ngrok\", \"localhost\"]\r\n",
        "server = PortForward_wrapper(\r\n",
        "    PORT_FORWARD, TOKEN, USE_FREE_TOKEN, [['netdata', 19999, 'http'], \r\n",
        "                            ['cloudcmd', 7007, 'http']], REGION.lower(), \r\n",
        "    [f\"{HOME}/.ngrok2/netdataCloudcmd.yml\", 7044]\r\n",
        ").start('cloudcmd')"
      ],
      "execution_count": null,
      "outputs": []
    },
    {
      "cell_type": "markdown",
      "metadata": {
        "id": "GQxxI7KtBh0l"
      },
      "source": [
        "#Make sure to use GPU hardware accelerator\n",
        "\n",
        "1. Clone the repository (https://github.com/rokibulislaam/colab-ffmpeg-cuda)\n"
      ]
    },
    {
      "cell_type": "code",
      "metadata": {
        "id": "cM5C4dVbBs1F",
        "outputId": "19538e4b-d72f-4b2e-dd3d-54efa9946f1c",
        "colab": {
          "base_uri": "https://localhost:8080/"
        }
      },
      "source": [
        "!git clone https://github.com/rokibulislaam/colab-ffmpeg-cuda.git"
      ],
      "execution_count": 1,
      "outputs": [
        {
          "output_type": "stream",
          "text": [
            "Cloning into 'colab-ffmpeg-cuda'...\n",
            "remote: Enumerating objects: 59, done.\u001b[K\n",
            "remote: Counting objects: 100% (59/59), done.\u001b[K\n",
            "remote: Compressing objects: 100% (44/44), done.\u001b[K\n",
            "remote: Total 59 (delta 24), reused 39 (delta 15), pack-reused 0\u001b[K\n",
            "Unpacking objects: 100% (59/59), done.\n",
            "Checking out files: 100% (32/32), done.\n"
          ],
          "name": "stdout"
        }
      ]
    },
    {
      "cell_type": "markdown",
      "metadata": {
        "id": "ebPP4NbVBx8A"
      },
      "source": [
        "Copy all the pre-built binaries from ./colab-ffmpeg-cuda/bin/ to /usr/bin/ (Recommended)"
      ]
    },
    {
      "cell_type": "code",
      "metadata": {
        "id": "vh1pxqPJB0JB"
      },
      "source": [
        "!cp -r ./colab-ffmpeg-cuda/bin/. /usr/bin/"
      ],
      "execution_count": 2,
      "outputs": []
    },
    {
      "cell_type": "markdown",
      "metadata": {
        "id": "AkfdBmM4B3Zg"
      },
      "source": [
        "Check the installed ffmpeg version"
      ]
    },
    {
      "cell_type": "code",
      "metadata": {
        "id": "KqnJhN2kB6j7",
        "outputId": "29aef53f-5a51-464a-a09c-18e29d693bc4",
        "colab": {
          "base_uri": "https://localhost:8080/"
        }
      },
      "source": [
        "!ffmpeg -version"
      ],
      "execution_count": 3,
      "outputs": [
        {
          "output_type": "stream",
          "text": [
            "ffmpeg version 4.3.1 Copyright (c) 2000-2020 the FFmpeg developers\n",
            "built with gcc 7 (Ubuntu 7.5.0-3ubuntu1~18.04)\n",
            "configuration: --enable-cuda-nvcc --enable-cuvid --enable-nvenc --enable-libnpp --enable-cuda-llvm --pkgconfigdir=/content/workspace/lib/pkgconfig --prefix=/content/workspace --pkg-config-flags=--static --extra-cflags='-I/content/workspace/include -I/usr/local/cuda/include' --extra-ldflags='-L/content/workspace/lib -L/usr/local/cuda/lib64' --extra-libs='-lpthread -lm' --enable-static --disable-debug --disable-shared --disable-ffplay --disable-doc --enable-openssl --enable-gpl --enable-version3 --enable-nonfree --enable-pthreads --enable-libvpx --enable-libmp3lame --enable-libopus --enable-libtheora --enable-libvorbis --enable-libx264 --enable-libx265 --enable-runtime-cpudetect --enable-libfdk-aac --enable-avfilter --enable-libopencore_amrwb --enable-libopencore_amrnb --enable-filters --enable-libvidstab --enable-libaom --enable-libsrt\n",
            "libavutil      56. 51.100 / 56. 51.100\n",
            "libavcodec     58. 91.100 / 58. 91.100\n",
            "libavformat    58. 45.100 / 58. 45.100\n",
            "libavdevice    58. 10.100 / 58. 10.100\n",
            "libavfilter     7. 85.100 /  7. 85.100\n",
            "libswscale      5.  7.100 /  5.  7.100\n",
            "libswresample   3.  7.100 /  3.  7.100\n",
            "libpostproc    55.  7.100 / 55.  7.100\n"
          ],
          "name": "stdout"
        }
      ]
    },
    {
      "cell_type": "code",
      "metadata": {
        "cellView": "form",
        "id": "EseCQJPKOozM"
      },
      "source": [
        "#@title Download Any Video with FFmpeg\r\n",
        "URL = \"\"# @param{type:\"string\"}\r\n",
        "#@markdown Don't Add Slash / at the end of Path\r\n",
        "Saving_Path = \"\"# @param{type:\"string\"}\r\n",
        "File_Name = \"\"# @param{type:\"string\"}\r\n",
        "#@markdown Major Extensions are given ⬇️ (But you can Still Type your custom)\r\n",
        "Extension = \".mp4\" #@param [\".mp4\", \".mkv\", \".avi\", \".flv\", \".wmv\", \".mov\"] {allow-input: true}\r\n",
        "!ffmpeg -i \"$URL\" -bsf:a aac_adtstoasc -vcodec copy -c copy -crf 17 \"$Saving_Path/$File_Name$Extension\""
      ],
      "execution_count": null,
      "outputs": []
    },
    {
      "cell_type": "code",
      "metadata": {
        "id": "WlAu0N0UZ1US",
        "cellView": "form"
      },
      "source": [
        "#@title FFmpeg for Trimming of Video\n",
        "URL = \"\"# @param {type:\"string\"}\n",
        "print(\"\\n\")\n",
        "StartTime = \"\"# @param {type:\"string\"}\n",
        "if (StartTime == \"\"):\n",
        "  StartTime = \"00:00:00\"\n",
        "EndTime = \"\"# @param {type:\"string\"}\n",
        "print(\"\\n\")\n",
        "#@markdown Don't Add Slash / at the end of Path\n",
        "Saving_Path = \"\"# @param {type:\"string\"}\n",
        "File_Name = \"\" #@param {type:\"string\"}\n",
        "#@markdown Major Extensions are given ⬇️ (But you can Still Type your custom)\n",
        "Extension = \".mp4\" #@param [\".mp4\", \".mkv\", \".avi\", \".flv\", \".wmv\", \".mov\"] {allow-input: true}\n",
        "!ffmpeg -i \"$URL\" -ss $StartTime -to $EndTime -c copy \"$Saving_Path/(Trimmed) $File_Name$Extension\"\n"
      ],
      "execution_count": null,
      "outputs": []
    },
    {
      "cell_type": "code",
      "metadata": {
        "cellView": "form",
        "id": "pvO3oKHVNkXD"
      },
      "source": [
        "#@title FFmpeg for converting codec of video and audio\n",
        "\n",
        "URL = \"\"# @param {type:\"string\"}\n",
        "#@markdown Major Codec is already in Dropdown⬇️ (But you can Still Type your custom)\n",
        "Video_Codec = \"libx264\" #@param [\"libx264\", \"libx265\", \"nvenc_h264\", \"nvenc_hevc\"] {allow-input: true}\n",
        "Audio_Codec = \"AAC\" #@param [\"AAC\", \"MP3\"] {allow-input: true}\n",
        "#@markdown Don't Add Slash / at the end of Path\n",
        "Saving_Path = \"\"# @param {type:\"string\"}\n",
        "File_Name = \"\" #@param {type:\"string\"}\n",
        "#@markdown Major Extensions are given ⬇️ (But you can Still Type your custom)\n",
        "Extension = \".mp4\" #@param [\".mp4\", \".mkv\", \".avi\", \".flv\", \".wmv\", \".mov\"] {allow-input: true}\n",
        "!ffmpeg -i \"$URL\" -c:v $Video_Codec -c:a $Audio_Codec \n"
      ],
      "execution_count": null,
      "outputs": []
    },
    {
      "cell_type": "code",
      "metadata": {
        "cellView": "form",
        "id": "6bSYrdNjWVNj"
      },
      "source": [
        "#@title Custom FFmpeg Command\r\n",
        "Command = \"\"# @param {type:\"string\"}\r\n",
        "!$Command"
      ],
      "execution_count": null,
      "outputs": []
    },
    {
      "cell_type": "markdown",
      "metadata": {
        "id": "xUerLZclCMDA"
      },
      "source": [
        "# Is it not working?\r\n",
        "If you are having trouble with the pre-built binaries, buid the binaries from scratch (It may take more than half an hour)"
      ]
    },
    {
      "cell_type": "code",
      "metadata": {
        "id": "gNiyDCvJCPYf"
      },
      "source": [
        "!chmod +x ./colab-ffmpeg-cuda/build && ./colab-ffmpeg-cuda/build --build"
      ],
      "execution_count": null,
      "outputs": []
    },
    {
      "cell_type": "markdown",
      "metadata": {
        "id": "3ByZiV17CSa8"
      },
      "source": [
        "There you go, ffmpeg with the required binaries should be installed to /usr/bin.\r\n"
      ]
    }
  ]
}
